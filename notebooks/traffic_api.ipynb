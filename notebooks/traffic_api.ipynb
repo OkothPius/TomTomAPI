{
 "cells": [
  {
   "cell_type": "code",
   "execution_count": 42,
   "metadata": {},
   "outputs": [
    {
     "name": "stdout",
     "output_type": "stream",
     "text": [
      "{'type': 'Feature', 'properties': {'iconCategory': 8}, 'geometry': {'type': 'LineString', 'coordinates': [[4.8873053083, 52.3722486223], [4.8874353955, 52.3733309378]]}}\n"
     ]
    }
   ],
   "source": [
    "import requests\n",
    "import matplotlib.pyplot as plt\n",
    "\n",
    "# Your_Api_Key = 'a2cvZL5Hn6VUHWOBOJYMKnqD3122VWnY'\n",
    "site_url = 'https://api.tomtom.com/traffic/services/5/incidentDetails?key=a2cvZL5Hn6VUHWOBOJYMKnqD3122VWnY&bbox=4.8854592519716675,52.36934334773164,4.897883244144765,52.37496348620152'\n",
    "response = requests.get(site_url)\n",
    "response_json = response.json()\n",
    "\n",
    "\n",
    "print(response_json['incidents'][0])\n",
    "\n",
    "\n"
   ]
  }
 ],
 "metadata": {
  "kernelspec": {
   "display_name": "Python 3",
   "language": "python",
   "name": "python3"
  },
  "language_info": {
   "codemirror_mode": {
    "name": "ipython",
    "version": 3
   },
   "file_extension": ".py",
   "mimetype": "text/x-python",
   "name": "python",
   "nbconvert_exporter": "python",
   "pygments_lexer": "ipython3",
   "version": "3.8.5"
  }
 },
 "nbformat": 4,
 "nbformat_minor": 4
}
