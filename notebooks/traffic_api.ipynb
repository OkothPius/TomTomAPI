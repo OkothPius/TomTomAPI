{
 "cells": [
  {
   "cell_type": "code",
   "execution_count": 7,
   "metadata": {},
   "outputs": [
    {
     "name": "stdout",
     "output_type": "stream",
     "text": [
      "[{'type': 'Feature', 'properties': {'iconCategory': 8}, 'geometry': {'type': 'LineString', 'coordinates': [[4.8873053083, 52.3722486223], [4.8874353955, 52.3733309378]]}}, {'type': 'Feature', 'properties': {'iconCategory': 8}, 'geometry': {'type': 'LineString', 'coordinates': [[4.8885431478, 52.3733242342], [4.8885243723, 52.3732813002], [4.8885029147, 52.3732102213], [4.8883795331, 52.3728803088], [4.888289679, 52.3726496194], [4.8881743441, 52.3721896187]]}}, {'type': 'Feature', 'properties': {'iconCategory': 8}, 'geometry': {'type': 'LineString', 'coordinates': [[4.8890272865, 52.374578152], [4.8889910767, 52.3745164394], [4.8889588902, 52.3744547779], [4.8889293859, 52.3743783278], [4.888737608, 52.3738700387], [4.8886853049, 52.3737278825], [4.8885431478, 52.3733242342]]}}, {'type': 'Feature', 'properties': {'iconCategory': 8}, 'geometry': {'type': 'LineString', 'coordinates': [[4.8887778411, 52.3721990347], [4.8888609896, 52.3724283448], [4.888956208, 52.3726885113], [4.8890098522, 52.3728266793], [4.8891332338, 52.3731887798]]}}, {'type': 'Feature', 'properties': {'iconCategory': 8}, 'geometry': {'type': 'LineString', 'coordinates': [[4.8891332338, 52.3731887798], [4.8891667614, 52.3732410785], [4.8891976068, 52.3732947075]]}}, {'type': 'Feature', 'properties': {'iconCategory': 8}, 'geometry': {'type': 'LineString', 'coordinates': [[4.8874353955, 52.3733309378], [4.8885029147, 52.3732102213], [4.8886531184, 52.3732075603], [4.8887992988, 52.3732035176], [4.8889897356, 52.3731954835], [4.8891332338, 52.3731887798], [4.8895878682, 52.3731672872], [4.8896535823, 52.3731659567]]}}, {'type': 'Feature', 'properties': {'iconCategory': 8}, 'geometry': {'type': 'LineString', 'coordinates': [[4.8902865837, 52.371635759], [4.8897166142, 52.3715780851]]}}]\n",
      "Response from https://api.tomtom.com/traffic/services/5/incidentDetails?key=a2cvZL5Hn6VUHWOBOJYMKnqD3122VWnY&bbox=4.8854592519716675,52.36934334773164,4.897883244144765,52.37496348620152 is 200\n"
     ]
    }
   ],
   "source": [
    "import requests\n",
    "import matplotlib.pyplot as plt\n",
    "\n",
    "# Your_Api_Key='a2cvZL5Hn6VUHWOBOJYMKnqD3122VWnY'\n",
    "# baseURL='api.tomtom.com'\n",
    "# site_url='https://baseURL/traffic/services/5/incidentDetails?key=Your_Api_Key&bbox=4.8854592519716675,52.36934334773164,4.897883244144765,52.37496348620152&fields={incidents{type,geometry{type,coordinates},properties{iconCategory}}}&language=en-GB&t=1111&categoryFilter=Accident&timeValidityFilter=present'\n",
    "\n",
    "base_url = 'https://api.tomtom.com/traffic/services/5/incidentDetails?key=a2cvZL5Hn6VUHWOBOJYMKnqD3122VWnY&bbox=4.8854592519716675,52.36934334773164,4.897883244144765,52.37496348620152'\n",
    "headers = {'Accept': 'application/json; charset=utf-8'}\n",
    "response = requests.get(base_url, headers=headers)\n",
    "response_json = response.json()\n",
    "print(response_json['incidents'])\n",
    "print(f'Response from {base_url} is {response.status_code}')"
   ]
  }
 ],
 "metadata": {
  "kernelspec": {
   "display_name": "Python 3",
   "language": "python",
   "name": "python3"
  },
  "language_info": {
   "codemirror_mode": {
    "name": "ipython",
    "version": 3
   },
   "file_extension": ".py",
   "mimetype": "text/x-python",
   "name": "python",
   "nbconvert_exporter": "python",
   "pygments_lexer": "ipython3",
   "version": "3.8.5"
  }
 },
 "nbformat": 4,
 "nbformat_minor": 4
}
